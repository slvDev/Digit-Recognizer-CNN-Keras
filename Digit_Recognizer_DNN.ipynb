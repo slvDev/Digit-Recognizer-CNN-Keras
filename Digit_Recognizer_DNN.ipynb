{
  "nbformat": 4,
  "nbformat_minor": 0,
  "metadata": {
    "colab": {
      "name": "Digit Recognizer DNN.ipynb",
      "version": "0.3.2",
      "provenance": [],
      "collapsed_sections": [],
      "toc_visible": true,
      "include_colab_link": true
    },
    "kernelspec": {
      "name": "python3",
      "display_name": "Python 3"
    },
    "accelerator": "GPU"
  },
  "cells": [
    {
      "cell_type": "markdown",
      "metadata": {
        "id": "view-in-github",
        "colab_type": "text"
      },
      "source": [
        "<a href=\"https://colab.research.google.com/github/slvDev/Digit-Recognizer-CNN-Keras/blob/master/Digit_Recognizer_DNN.ipynb\" target=\"_parent\"><img src=\"https://colab.research.google.com/assets/colab-badge.svg\" alt=\"Open In Colab\"/></a>"
      ]
    },
    {
      "cell_type": "code",
      "metadata": {
        "id": "L-ZItOHCKGFK",
        "colab_type": "code",
        "colab": {}
      },
      "source": [
        "# Run this cell to mount your Google Drive.\n",
        "from google.colab import drive\n",
        "drive.mount('/content/drive')"
      ],
      "execution_count": 0,
      "outputs": []
    },
    {
      "cell_type": "markdown",
      "metadata": {
        "id": "sNg0c8VYoYG7",
        "colab_type": "text"
      },
      "source": [
        "## Digit Recognizer CNN | Keras\n",
        "*   Initial step\n",
        "*   Data preparation\n",
        "*   Create the model.\n",
        "*   Evaluate the model\n",
        "*   Make a submission.\n"
      ]
    },
    {
      "cell_type": "markdown",
      "metadata": {
        "id": "8J6J762hhTbd",
        "colab_type": "text"
      },
      "source": [
        "### **Initial step**\n",
        "\n",
        "Basic initial step import required libraries\n",
        "\n",
        "*   matplotlib - plot images and results\n",
        "*   pandas - reading and manipulating data\n",
        "*   numpy - linear algebra\n",
        "*   tensorflow - self-explanatory\n",
        "*   sklearn - only for data splitting and confusion matrix\n",
        "*   randrange - for selecting random images"
      ]
    },
    {
      "cell_type": "code",
      "metadata": {
        "id": "VHavgRLoeGb3",
        "colab_type": "code",
        "colab": {}
      },
      "source": [
        "%matplotlib inline\n",
        "import matplotlib.pyplot as plt\n",
        "import matplotlib.image as mpimg\n",
        "import pandas as pd\n",
        "import numpy as np\n",
        "import tensorflow as tf\n",
        "from tensorflow.keras.preprocessing.image import ImageDataGenerator\n",
        "from tensorflow.keras.optimizers import Adam\n",
        "from tensorflow.keras.utils import to_categorical, normalize\n",
        "from sklearn.model_selection import train_test_split\n",
        "from sklearn.metrics import confusion_matrix\n",
        "from random import randrange"
      ],
      "execution_count": 0,
      "outputs": []
    },
    {
      "cell_type": "markdown",
      "metadata": {
        "id": "k33bdYKKh5_x",
        "colab_type": "text"
      },
      "source": [
        "## Data preparation\n",
        "\n",
        "Load the training data with pandas and explore it"
      ]
    },
    {
      "cell_type": "code",
      "metadata": {
        "id": "BbmPh4VKgVxS",
        "colab_type": "code",
        "outputId": "ae6f6885-ff1a-4553-82f9-9fb79a5d8100",
        "colab": {
          "base_uri": "https://localhost:8080/",
          "height": 208
        }
      },
      "source": [
        "df_train = pd.read_csv('/content/drive/My Drive/train.csv')\n",
        "print(f'The train set contain {df_train.shape[0]} examples')\n",
        "df_train.head(3)\n"
      ],
      "execution_count": 3,
      "outputs": [
        {
          "output_type": "stream",
          "text": [
            "The train set contain 42000 examples\n"
          ],
          "name": "stdout"
        },
        {
          "output_type": "execute_result",
          "data": {
            "text/html": [
              "<div>\n",
              "<style scoped>\n",
              "    .dataframe tbody tr th:only-of-type {\n",
              "        vertical-align: middle;\n",
              "    }\n",
              "\n",
              "    .dataframe tbody tr th {\n",
              "        vertical-align: top;\n",
              "    }\n",
              "\n",
              "    .dataframe thead th {\n",
              "        text-align: right;\n",
              "    }\n",
              "</style>\n",
              "<table border=\"1\" class=\"dataframe\">\n",
              "  <thead>\n",
              "    <tr style=\"text-align: right;\">\n",
              "      <th></th>\n",
              "      <th>label</th>\n",
              "      <th>pixel0</th>\n",
              "      <th>pixel1</th>\n",
              "      <th>pixel2</th>\n",
              "      <th>pixel3</th>\n",
              "      <th>pixel4</th>\n",
              "      <th>pixel5</th>\n",
              "      <th>pixel6</th>\n",
              "      <th>pixel7</th>\n",
              "      <th>pixel8</th>\n",
              "      <th>pixel9</th>\n",
              "      <th>pixel10</th>\n",
              "      <th>pixel11</th>\n",
              "      <th>pixel12</th>\n",
              "      <th>pixel13</th>\n",
              "      <th>pixel14</th>\n",
              "      <th>pixel15</th>\n",
              "      <th>pixel16</th>\n",
              "      <th>pixel17</th>\n",
              "      <th>pixel18</th>\n",
              "      <th>pixel19</th>\n",
              "      <th>pixel20</th>\n",
              "      <th>pixel21</th>\n",
              "      <th>pixel22</th>\n",
              "      <th>pixel23</th>\n",
              "      <th>pixel24</th>\n",
              "      <th>pixel25</th>\n",
              "      <th>pixel26</th>\n",
              "      <th>pixel27</th>\n",
              "      <th>pixel28</th>\n",
              "      <th>pixel29</th>\n",
              "      <th>pixel30</th>\n",
              "      <th>pixel31</th>\n",
              "      <th>pixel32</th>\n",
              "      <th>pixel33</th>\n",
              "      <th>pixel34</th>\n",
              "      <th>pixel35</th>\n",
              "      <th>pixel36</th>\n",
              "      <th>pixel37</th>\n",
              "      <th>pixel38</th>\n",
              "      <th>...</th>\n",
              "      <th>pixel744</th>\n",
              "      <th>pixel745</th>\n",
              "      <th>pixel746</th>\n",
              "      <th>pixel747</th>\n",
              "      <th>pixel748</th>\n",
              "      <th>pixel749</th>\n",
              "      <th>pixel750</th>\n",
              "      <th>pixel751</th>\n",
              "      <th>pixel752</th>\n",
              "      <th>pixel753</th>\n",
              "      <th>pixel754</th>\n",
              "      <th>pixel755</th>\n",
              "      <th>pixel756</th>\n",
              "      <th>pixel757</th>\n",
              "      <th>pixel758</th>\n",
              "      <th>pixel759</th>\n",
              "      <th>pixel760</th>\n",
              "      <th>pixel761</th>\n",
              "      <th>pixel762</th>\n",
              "      <th>pixel763</th>\n",
              "      <th>pixel764</th>\n",
              "      <th>pixel765</th>\n",
              "      <th>pixel766</th>\n",
              "      <th>pixel767</th>\n",
              "      <th>pixel768</th>\n",
              "      <th>pixel769</th>\n",
              "      <th>pixel770</th>\n",
              "      <th>pixel771</th>\n",
              "      <th>pixel772</th>\n",
              "      <th>pixel773</th>\n",
              "      <th>pixel774</th>\n",
              "      <th>pixel775</th>\n",
              "      <th>pixel776</th>\n",
              "      <th>pixel777</th>\n",
              "      <th>pixel778</th>\n",
              "      <th>pixel779</th>\n",
              "      <th>pixel780</th>\n",
              "      <th>pixel781</th>\n",
              "      <th>pixel782</th>\n",
              "      <th>pixel783</th>\n",
              "    </tr>\n",
              "  </thead>\n",
              "  <tbody>\n",
              "    <tr>\n",
              "      <th>0</th>\n",
              "      <td>1</td>\n",
              "      <td>0</td>\n",
              "      <td>0</td>\n",
              "      <td>0</td>\n",
              "      <td>0</td>\n",
              "      <td>0</td>\n",
              "      <td>0</td>\n",
              "      <td>0</td>\n",
              "      <td>0</td>\n",
              "      <td>0</td>\n",
              "      <td>0</td>\n",
              "      <td>0</td>\n",
              "      <td>0</td>\n",
              "      <td>0</td>\n",
              "      <td>0</td>\n",
              "      <td>0</td>\n",
              "      <td>0</td>\n",
              "      <td>0</td>\n",
              "      <td>0</td>\n",
              "      <td>0</td>\n",
              "      <td>0</td>\n",
              "      <td>0</td>\n",
              "      <td>0</td>\n",
              "      <td>0</td>\n",
              "      <td>0</td>\n",
              "      <td>0</td>\n",
              "      <td>0</td>\n",
              "      <td>0</td>\n",
              "      <td>0</td>\n",
              "      <td>0</td>\n",
              "      <td>0</td>\n",
              "      <td>0</td>\n",
              "      <td>0</td>\n",
              "      <td>0</td>\n",
              "      <td>0</td>\n",
              "      <td>0</td>\n",
              "      <td>0</td>\n",
              "      <td>0</td>\n",
              "      <td>0</td>\n",
              "      <td>0</td>\n",
              "      <td>...</td>\n",
              "      <td>0</td>\n",
              "      <td>0</td>\n",
              "      <td>0</td>\n",
              "      <td>0</td>\n",
              "      <td>0</td>\n",
              "      <td>0</td>\n",
              "      <td>0</td>\n",
              "      <td>0</td>\n",
              "      <td>0</td>\n",
              "      <td>0</td>\n",
              "      <td>0</td>\n",
              "      <td>0</td>\n",
              "      <td>0</td>\n",
              "      <td>0</td>\n",
              "      <td>0</td>\n",
              "      <td>0</td>\n",
              "      <td>0</td>\n",
              "      <td>0</td>\n",
              "      <td>0</td>\n",
              "      <td>0</td>\n",
              "      <td>0</td>\n",
              "      <td>0</td>\n",
              "      <td>0</td>\n",
              "      <td>0</td>\n",
              "      <td>0</td>\n",
              "      <td>0</td>\n",
              "      <td>0</td>\n",
              "      <td>0</td>\n",
              "      <td>0</td>\n",
              "      <td>0</td>\n",
              "      <td>0</td>\n",
              "      <td>0</td>\n",
              "      <td>0</td>\n",
              "      <td>0</td>\n",
              "      <td>0</td>\n",
              "      <td>0</td>\n",
              "      <td>0</td>\n",
              "      <td>0</td>\n",
              "      <td>0</td>\n",
              "      <td>0</td>\n",
              "    </tr>\n",
              "    <tr>\n",
              "      <th>1</th>\n",
              "      <td>0</td>\n",
              "      <td>0</td>\n",
              "      <td>0</td>\n",
              "      <td>0</td>\n",
              "      <td>0</td>\n",
              "      <td>0</td>\n",
              "      <td>0</td>\n",
              "      <td>0</td>\n",
              "      <td>0</td>\n",
              "      <td>0</td>\n",
              "      <td>0</td>\n",
              "      <td>0</td>\n",
              "      <td>0</td>\n",
              "      <td>0</td>\n",
              "      <td>0</td>\n",
              "      <td>0</td>\n",
              "      <td>0</td>\n",
              "      <td>0</td>\n",
              "      <td>0</td>\n",
              "      <td>0</td>\n",
              "      <td>0</td>\n",
              "      <td>0</td>\n",
              "      <td>0</td>\n",
              "      <td>0</td>\n",
              "      <td>0</td>\n",
              "      <td>0</td>\n",
              "      <td>0</td>\n",
              "      <td>0</td>\n",
              "      <td>0</td>\n",
              "      <td>0</td>\n",
              "      <td>0</td>\n",
              "      <td>0</td>\n",
              "      <td>0</td>\n",
              "      <td>0</td>\n",
              "      <td>0</td>\n",
              "      <td>0</td>\n",
              "      <td>0</td>\n",
              "      <td>0</td>\n",
              "      <td>0</td>\n",
              "      <td>0</td>\n",
              "      <td>...</td>\n",
              "      <td>0</td>\n",
              "      <td>0</td>\n",
              "      <td>0</td>\n",
              "      <td>0</td>\n",
              "      <td>0</td>\n",
              "      <td>0</td>\n",
              "      <td>0</td>\n",
              "      <td>0</td>\n",
              "      <td>0</td>\n",
              "      <td>0</td>\n",
              "      <td>0</td>\n",
              "      <td>0</td>\n",
              "      <td>0</td>\n",
              "      <td>0</td>\n",
              "      <td>0</td>\n",
              "      <td>0</td>\n",
              "      <td>0</td>\n",
              "      <td>0</td>\n",
              "      <td>0</td>\n",
              "      <td>0</td>\n",
              "      <td>0</td>\n",
              "      <td>0</td>\n",
              "      <td>0</td>\n",
              "      <td>0</td>\n",
              "      <td>0</td>\n",
              "      <td>0</td>\n",
              "      <td>0</td>\n",
              "      <td>0</td>\n",
              "      <td>0</td>\n",
              "      <td>0</td>\n",
              "      <td>0</td>\n",
              "      <td>0</td>\n",
              "      <td>0</td>\n",
              "      <td>0</td>\n",
              "      <td>0</td>\n",
              "      <td>0</td>\n",
              "      <td>0</td>\n",
              "      <td>0</td>\n",
              "      <td>0</td>\n",
              "      <td>0</td>\n",
              "    </tr>\n",
              "    <tr>\n",
              "      <th>2</th>\n",
              "      <td>1</td>\n",
              "      <td>0</td>\n",
              "      <td>0</td>\n",
              "      <td>0</td>\n",
              "      <td>0</td>\n",
              "      <td>0</td>\n",
              "      <td>0</td>\n",
              "      <td>0</td>\n",
              "      <td>0</td>\n",
              "      <td>0</td>\n",
              "      <td>0</td>\n",
              "      <td>0</td>\n",
              "      <td>0</td>\n",
              "      <td>0</td>\n",
              "      <td>0</td>\n",
              "      <td>0</td>\n",
              "      <td>0</td>\n",
              "      <td>0</td>\n",
              "      <td>0</td>\n",
              "      <td>0</td>\n",
              "      <td>0</td>\n",
              "      <td>0</td>\n",
              "      <td>0</td>\n",
              "      <td>0</td>\n",
              "      <td>0</td>\n",
              "      <td>0</td>\n",
              "      <td>0</td>\n",
              "      <td>0</td>\n",
              "      <td>0</td>\n",
              "      <td>0</td>\n",
              "      <td>0</td>\n",
              "      <td>0</td>\n",
              "      <td>0</td>\n",
              "      <td>0</td>\n",
              "      <td>0</td>\n",
              "      <td>0</td>\n",
              "      <td>0</td>\n",
              "      <td>0</td>\n",
              "      <td>0</td>\n",
              "      <td>0</td>\n",
              "      <td>...</td>\n",
              "      <td>0</td>\n",
              "      <td>0</td>\n",
              "      <td>0</td>\n",
              "      <td>0</td>\n",
              "      <td>0</td>\n",
              "      <td>0</td>\n",
              "      <td>0</td>\n",
              "      <td>0</td>\n",
              "      <td>0</td>\n",
              "      <td>0</td>\n",
              "      <td>0</td>\n",
              "      <td>0</td>\n",
              "      <td>0</td>\n",
              "      <td>0</td>\n",
              "      <td>0</td>\n",
              "      <td>0</td>\n",
              "      <td>0</td>\n",
              "      <td>0</td>\n",
              "      <td>0</td>\n",
              "      <td>0</td>\n",
              "      <td>0</td>\n",
              "      <td>0</td>\n",
              "      <td>0</td>\n",
              "      <td>0</td>\n",
              "      <td>0</td>\n",
              "      <td>0</td>\n",
              "      <td>0</td>\n",
              "      <td>0</td>\n",
              "      <td>0</td>\n",
              "      <td>0</td>\n",
              "      <td>0</td>\n",
              "      <td>0</td>\n",
              "      <td>0</td>\n",
              "      <td>0</td>\n",
              "      <td>0</td>\n",
              "      <td>0</td>\n",
              "      <td>0</td>\n",
              "      <td>0</td>\n",
              "      <td>0</td>\n",
              "      <td>0</td>\n",
              "    </tr>\n",
              "  </tbody>\n",
              "</table>\n",
              "<p>3 rows × 785 columns</p>\n",
              "</div>"
            ],
            "text/plain": [
              "   label  pixel0  pixel1  pixel2  ...  pixel780  pixel781  pixel782  pixel783\n",
              "0      1       0       0       0  ...         0         0         0         0\n",
              "1      0       0       0       0  ...         0         0         0         0\n",
              "2      1       0       0       0  ...         0         0         0         0\n",
              "\n",
              "[3 rows x 785 columns]"
            ]
          },
          "metadata": {
            "tags": []
          },
          "execution_count": 3
        }
      ]
    },
    {
      "cell_type": "markdown",
      "metadata": {
        "id": "ls-ax45qizyT",
        "colab_type": "text"
      },
      "source": [
        "Looks like we have in first column labels and everything else it's an unrolled 28x28 image.\n",
        "Extract Labels to different data."
      ]
    },
    {
      "cell_type": "code",
      "metadata": {
        "id": "I4U_jRoe6yB4",
        "colab_type": "code",
        "colab": {}
      },
      "source": [
        "X_train = df_train.drop('label', axis = 1)\n",
        "y_train = df_train['label']"
      ],
      "execution_count": 0,
      "outputs": []
    },
    {
      "cell_type": "markdown",
      "metadata": {
        "id": "4dJQua8Djz8_",
        "colab_type": "text"
      },
      "source": [
        "Let's plot the training set. Looks like we have a balanced data set."
      ]
    },
    {
      "cell_type": "code",
      "metadata": {
        "id": "tLKgzQB2-DVL",
        "colab_type": "code",
        "outputId": "299f180a-8de8-4374-b8f9-4ce119f972da",
        "colab": {
          "base_uri": "https://localhost:8080/",
          "height": 295
        }
      },
      "source": [
        "digits = y_train.unique()\n",
        "values = y_train.value_counts()\n",
        "\n",
        "plt.bar(digits, values)\n",
        "plt.title('Train set')\n",
        "plt.xlabel('Digit')\n",
        "plt.ylabel('Examples count')\n",
        "plt.xticks(np.arange(len(digits)))\n",
        "plt.show()"
      ],
      "execution_count": 5,
      "outputs": [
        {
          "output_type": "display_data",
          "data": {
            "image/png": "[encoded data removed]",
            "text/plain": [
              "<Figure size 432x288 with 1 Axes>"
            ]
          },
          "metadata": {
            "tags": []
          }
        }
      ]
    },
    {
      "cell_type": "markdown",
      "metadata": {
        "id": "7gp0p29KkJrl",
        "colab_type": "text"
      },
      "source": [
        "Normalize training examples.\n",
        "\n",
        "Normalization makes training more efficient. Why this happening? I will write a post later."
      ]
    },
    {
      "cell_type": "code",
      "metadata": {
        "id": "gzUnmOajRf1b",
        "colab_type": "code",
        "colab": {}
      },
      "source": [
        "#X_train = normalize(X_train)\n",
        "X_train = X_train / 255"
      ],
      "execution_count": 0,
      "outputs": []
    },
    {
      "cell_type": "markdown",
      "metadata": {
        "id": "Lga9GpJxknIu",
        "colab_type": "text"
      },
      "source": [
        "Reshape training set."
      ]
    },
    {
      "cell_type": "code",
      "metadata": {
        "id": "q6ZgxrSVBWK8",
        "colab_type": "code",
        "outputId": "af3e7af6-b1f6-4ccf-9779-a62863765f60",
        "colab": {
          "base_uri": "https://localhost:8080/",
          "height": 34
        }
      },
      "source": [
        "#X_train = X_train.values.reshape(-1,28,28,1)\n",
        "X_train.shape"
      ],
      "execution_count": 7,
      "outputs": [
        {
          "output_type": "execute_result",
          "data": {
            "text/plain": [
              "(42000, 784)"
            ]
          },
          "metadata": {
            "tags": []
          },
          "execution_count": 7
        }
      ]
    },
    {
      "cell_type": "markdown",
      "metadata": {
        "id": "I8ATnL9Kk9oi",
        "colab_type": "text"
      },
      "source": [
        "Now we can plot random images with the label.\n",
        "Just rerun the cell and explore different training examples."
      ]
    },
    {
      "cell_type": "markdown",
      "metadata": {
        "id": "3oArl_-jlLny",
        "colab_type": "text"
      },
      "source": [
        "Now we need convert our label to \"one hot vector\".\n",
        "Print the result to make sure everything is right."
      ]
    },
    {
      "cell_type": "code",
      "metadata": {
        "id": "ROtlBtgISE67",
        "colab_type": "code",
        "outputId": "ca4d72fb-d020-4444-8364-466b7babdfd0",
        "colab": {
          "base_uri": "https://localhost:8080/",
          "height": 34
        }
      },
      "source": [
        "y_train = to_categorical(y_train)\n",
        "y_train.shape"
      ],
      "execution_count": 8,
      "outputs": [
        {
          "output_type": "execute_result",
          "data": {
            "text/plain": [
              "(42000, 10)"
            ]
          },
          "metadata": {
            "tags": []
          },
          "execution_count": 8
        }
      ]
    },
    {
      "cell_type": "markdown",
      "metadata": {
        "id": "ElDNMhy5lwmB",
        "colab_type": "text"
      },
      "source": [
        "Split the data into three sets.\n",
        "\n",
        "Since data it significantly small we will split to:\n",
        "\n",
        "*   train - 80%\n",
        "*   valid - 10%\n",
        "*   test - 10%\n",
        "\n",
        "\n"
      ]
    },
    {
      "cell_type": "code",
      "metadata": {
        "id": "YbXeTm2_ewdU",
        "colab_type": "code",
        "colab": {}
      },
      "source": [
        "X_train, X_val, y_train, y_val = train_test_split(X_train, y_train, test_size = 0.2)\n",
        "X_val, X_test, y_val, y_test = train_test_split(X_val, y_val, test_size = 0.5)"
      ],
      "execution_count": 0,
      "outputs": []
    },
    {
      "cell_type": "markdown",
      "metadata": {
        "id": "OigdzwW5mNG-",
        "colab_type": "text"
      },
      "source": [
        "### Data augmentation. \n",
        "\n",
        "When working with images is always not enough data. With Keras we can augment it in the fly using ImageDataGenerator"
      ]
    },
    {
      "cell_type": "code",
      "metadata": {
        "id": "hKRAZVQqULte",
        "colab_type": "code",
        "colab": {}
      },
      "source": [
        "train_datagen = ImageDataGenerator(\n",
        "        rotation_range=10,\n",
        "        zoom_range = 0.1, \n",
        "        width_shift_range=0.1,\n",
        "        height_shift_range=0.1,\n",
        "        shear_range=0.1,\n",
        "        )\n",
        "\n",
        "train_datagen.fit(X_train)"
      ],
      "execution_count": 0,
      "outputs": []
    },
    {
      "cell_type": "markdown",
      "metadata": {
        "id": "fIymzbytmqfD",
        "colab_type": "text"
      },
      "source": [
        "## Create the model.\n",
        "\n",
        "Our playground. Feel free to try a different variation"
      ]
    },
    {
      "cell_type": "code",
      "metadata": {
        "id": "o_5tyJRoUyXX",
        "colab_type": "code",
        "colab": {}
      },
      "source": [
        "model = tf.keras.models.Sequential([        \n",
        "    tf.keras.layers.Dense(1024, activation='relu', input_shape=(784,)),\n",
        "    tf.keras.layers.BatchNormalization(),\n",
        "    tf.keras.layers.Dropout(0.5),\n",
        "    \n",
        "    tf.keras.layers.Dense(1024, activation='relu'),\n",
        "    tf.keras.layers.BatchNormalization(),\n",
        "    tf.keras.layers.Dropout(0.5),\n",
        "    \n",
        "    tf.keras.layers.Dense(1024, activation='relu'),\n",
        "    tf.keras.layers.BatchNormalization(),\n",
        "    tf.keras.layers.Dropout(0.5),\n",
        "    \n",
        "    tf.keras.layers.Dense(1024, activation='relu'),\n",
        "    tf.keras.layers.BatchNormalization(),\n",
        "    tf.keras.layers.Dropout(0.5),\n",
        "    \n",
        "    tf.keras.layers.Dense(1024, activation='relu'),\n",
        "    tf.keras.layers.BatchNormalization(),\n",
        "    tf.keras.layers.Dropout(0.5),\n",
        "    \n",
        "    tf.keras.layers.Dense(10, activation='softmax')\n",
        "])\n",
        "\n",
        "\n",
        "model.compile(loss='categorical_crossentropy',\n",
        "              optimizer=Adam(0.0001),\n",
        "              metrics=['acc'])"
      ],
      "execution_count": 0,
      "outputs": []
    },
    {
      "cell_type": "markdown",
      "metadata": {
        "id": "JMsptCerm3k1",
        "colab_type": "text"
      },
      "source": [
        "Explore the model."
      ]
    },
    {
      "cell_type": "code",
      "metadata": {
        "id": "tii24DznVHE8",
        "colab_type": "code",
        "colab": {}
      },
      "source": [
        "model.summary()"
      ],
      "execution_count": 0,
      "outputs": []
    },
    {
      "cell_type": "markdown",
      "metadata": {
        "id": "2zVH5cXDm9hY",
        "colab_type": "text"
      },
      "source": [
        "### Training\n",
        "\n",
        "Batch size is another hyperparameter to tune.\n",
        "Finally, train the model."
      ]
    },
    {
      "cell_type": "code",
      "metadata": {
        "id": "DD9PVWNtVaGt",
        "colab_type": "code",
        "outputId": "72197ff7-21bc-4835-e6f3-9f7c0fa96aec",
        "colab": {
          "base_uri": "https://localhost:8080/",
          "height": 1734
        }
      },
      "source": [
        "#batch_size = 32\n",
        "history = model.fit(\n",
        "        X_train, y_train,\n",
        "        epochs=50,\n",
        "        validation_data=(X_val, y_val),\n",
        "        )"
      ],
      "execution_count": 21,
      "outputs": [
        {
          "output_type": "stream",
          "text": [
            "Train on 33600 samples, validate on 4200 samples\n",
            "Epoch 1/50\n",
            "33600/33600 [==============================] - 12s 369us/sample - loss: 1.4489 - acc: 0.5817 - val_loss: 0.4342 - val_acc: 0.8669\n",
            "Epoch 2/50\n",
            "33600/33600 [==============================] - 11s 338us/sample - loss: 0.6348 - acc: 0.8160 - val_loss: 0.2759 - val_acc: 0.9155\n",
            "Epoch 3/50\n",
            "33600/33600 [==============================] - 11s 339us/sample - loss: 0.4775 - acc: 0.8619 - val_loss: 0.1960 - val_acc: 0.9395\n",
            "Epoch 4/50\n",
            "33600/33600 [==============================] - 11s 341us/sample - loss: 0.3832 - acc: 0.8860 - val_loss: 0.1867 - val_acc: 0.9414\n",
            "Epoch 5/50\n",
            "33600/33600 [==============================] - 11s 340us/sample - loss: 0.3258 - acc: 0.9041 - val_loss: 0.1504 - val_acc: 0.9529\n",
            "Epoch 6/50\n",
            "33600/33600 [==============================] - 11s 342us/sample - loss: 0.2802 - acc: 0.9166 - val_loss: 0.1318 - val_acc: 0.9600\n",
            "Epoch 7/50\n",
            "33600/33600 [==============================] - 12s 345us/sample - loss: 0.2512 - acc: 0.9226 - val_loss: 0.1257 - val_acc: 0.9610\n",
            "Epoch 8/50\n",
            "33600/33600 [==============================] - 11s 340us/sample - loss: 0.2285 - acc: 0.9306 - val_loss: 0.1048 - val_acc: 0.9688\n",
            "Epoch 9/50\n",
            "33600/33600 [==============================] - 11s 340us/sample - loss: 0.2058 - acc: 0.9371 - val_loss: 0.1026 - val_acc: 0.9688\n",
            "Epoch 10/50\n",
            "33600/33600 [==============================] - 12s 342us/sample - loss: 0.1859 - acc: 0.9429 - val_loss: 0.0921 - val_acc: 0.9710\n",
            "Epoch 11/50\n",
            "33600/33600 [==============================] - 11s 339us/sample - loss: 0.1718 - acc: 0.9462 - val_loss: 0.0905 - val_acc: 0.9714\n",
            "Epoch 12/50\n",
            "33600/33600 [==============================] - 11s 339us/sample - loss: 0.1564 - acc: 0.9518 - val_loss: 0.0856 - val_acc: 0.9740\n",
            "Epoch 13/50\n",
            "33600/33600 [==============================] - 11s 337us/sample - loss: 0.1474 - acc: 0.9531 - val_loss: 0.0876 - val_acc: 0.9745\n",
            "Epoch 14/50\n",
            "33600/33600 [==============================] - 12s 343us/sample - loss: 0.1382 - acc: 0.9569 - val_loss: 0.0757 - val_acc: 0.9779\n",
            "Epoch 15/50\n",
            "33600/33600 [==============================] - 11s 341us/sample - loss: 0.1221 - acc: 0.9613 - val_loss: 0.0750 - val_acc: 0.9779\n",
            "Epoch 16/50\n",
            "33600/33600 [==============================] - 11s 339us/sample - loss: 0.1223 - acc: 0.9622 - val_loss: 0.0720 - val_acc: 0.9781\n",
            "Epoch 17/50\n",
            "33600/33600 [==============================] - 11s 340us/sample - loss: 0.1084 - acc: 0.9665 - val_loss: 0.0711 - val_acc: 0.9793\n",
            "Epoch 18/50\n",
            "33600/33600 [==============================] - 11s 340us/sample - loss: 0.1015 - acc: 0.9664 - val_loss: 0.0685 - val_acc: 0.9800\n",
            "Epoch 19/50\n",
            "33600/33600 [==============================] - 11s 339us/sample - loss: 0.1000 - acc: 0.9684 - val_loss: 0.0712 - val_acc: 0.9783\n",
            "Epoch 20/50\n",
            "33600/33600 [==============================] - 11s 338us/sample - loss: 0.0969 - acc: 0.9679 - val_loss: 0.0662 - val_acc: 0.9805\n",
            "Epoch 21/50\n",
            "33600/33600 [==============================] - 12s 343us/sample - loss: 0.0886 - acc: 0.9717 - val_loss: 0.0688 - val_acc: 0.9790\n",
            "Epoch 22/50\n",
            "33600/33600 [==============================] - 11s 341us/sample - loss: 0.0855 - acc: 0.9729 - val_loss: 0.0645 - val_acc: 0.9824\n",
            "Epoch 23/50\n",
            "33600/33600 [==============================] - 11s 340us/sample - loss: 0.0802 - acc: 0.9741 - val_loss: 0.0664 - val_acc: 0.9826\n",
            "Epoch 24/50\n",
            "33600/33600 [==============================] - 11s 338us/sample - loss: 0.0786 - acc: 0.9745 - val_loss: 0.0679 - val_acc: 0.9793\n",
            "Epoch 25/50\n",
            "33600/33600 [==============================] - 12s 351us/sample - loss: 0.0747 - acc: 0.9759 - val_loss: 0.0657 - val_acc: 0.9814\n",
            "Epoch 26/50\n",
            "33600/33600 [==============================] - 11s 342us/sample - loss: 0.0727 - acc: 0.9762 - val_loss: 0.0637 - val_acc: 0.9817\n",
            "Epoch 27/50\n",
            "33600/33600 [==============================] - 11s 340us/sample - loss: 0.0634 - acc: 0.9783 - val_loss: 0.0625 - val_acc: 0.9831\n",
            "Epoch 28/50\n",
            "33600/33600 [==============================] - 12s 344us/sample - loss: 0.0652 - acc: 0.9794 - val_loss: 0.0615 - val_acc: 0.9821\n",
            "Epoch 29/50\n",
            "33600/33600 [==============================] - 11s 336us/sample - loss: 0.0637 - acc: 0.9793 - val_loss: 0.0614 - val_acc: 0.9840\n",
            "Epoch 30/50\n",
            "33600/33600 [==============================] - 11s 338us/sample - loss: 0.0600 - acc: 0.9805 - val_loss: 0.0628 - val_acc: 0.9819\n",
            "Epoch 31/50\n",
            "33600/33600 [==============================] - 11s 338us/sample - loss: 0.0608 - acc: 0.9792 - val_loss: 0.0636 - val_acc: 0.9826\n",
            "Epoch 32/50\n",
            "33600/33600 [==============================] - 11s 339us/sample - loss: 0.0541 - acc: 0.9820 - val_loss: 0.0679 - val_acc: 0.9817\n",
            "Epoch 33/50\n",
            "33600/33600 [==============================] - 11s 342us/sample - loss: 0.0517 - acc: 0.9829 - val_loss: 0.0683 - val_acc: 0.9831\n",
            "Epoch 34/50\n",
            "33600/33600 [==============================] - 11s 338us/sample - loss: 0.0560 - acc: 0.9813 - val_loss: 0.0651 - val_acc: 0.9817\n",
            "Epoch 35/50\n",
            "33600/33600 [==============================] - 12s 343us/sample - loss: 0.0517 - acc: 0.9832 - val_loss: 0.0678 - val_acc: 0.9829\n",
            "Epoch 36/50\n",
            "33600/33600 [==============================] - 11s 338us/sample - loss: 0.0482 - acc: 0.9842 - val_loss: 0.0691 - val_acc: 0.9836\n",
            "Epoch 37/50\n",
            "33600/33600 [==============================] - 12s 343us/sample - loss: 0.0474 - acc: 0.9843 - val_loss: 0.0678 - val_acc: 0.9829\n",
            "Epoch 38/50\n",
            "33600/33600 [==============================] - 11s 337us/sample - loss: 0.0470 - acc: 0.9842 - val_loss: 0.0734 - val_acc: 0.9819\n",
            "Epoch 39/50\n",
            "33600/33600 [==============================] - 11s 336us/sample - loss: 0.0456 - acc: 0.9851 - val_loss: 0.0664 - val_acc: 0.9831\n",
            "Epoch 40/50\n",
            "33600/33600 [==============================] - 11s 338us/sample - loss: 0.0452 - acc: 0.9851 - val_loss: 0.0665 - val_acc: 0.9824\n",
            "Epoch 41/50\n",
            "33600/33600 [==============================] - 11s 337us/sample - loss: 0.0449 - acc: 0.9851 - val_loss: 0.0779 - val_acc: 0.9817\n",
            "Epoch 42/50\n",
            "33600/33600 [==============================] - 11s 338us/sample - loss: 0.0454 - acc: 0.9853 - val_loss: 0.0687 - val_acc: 0.9821\n",
            "Epoch 43/50\n",
            "33600/33600 [==============================] - 11s 338us/sample - loss: 0.0420 - acc: 0.9870 - val_loss: 0.0663 - val_acc: 0.9833\n",
            "Epoch 44/50\n",
            "33600/33600 [==============================] - 11s 338us/sample - loss: 0.0434 - acc: 0.9862 - val_loss: 0.0669 - val_acc: 0.9833\n",
            "Epoch 45/50\n",
            "33600/33600 [==============================] - 11s 338us/sample - loss: 0.0403 - acc: 0.9867 - val_loss: 0.0673 - val_acc: 0.9836\n",
            "Epoch 46/50\n",
            "33600/33600 [==============================] - 11s 338us/sample - loss: 0.0384 - acc: 0.9871 - val_loss: 0.0730 - val_acc: 0.9824\n",
            "Epoch 47/50\n",
            "33600/33600 [==============================] - 11s 337us/sample - loss: 0.0401 - acc: 0.9867 - val_loss: 0.0719 - val_acc: 0.9821\n",
            "Epoch 48/50\n",
            "33600/33600 [==============================] - 11s 337us/sample - loss: 0.0351 - acc: 0.9887 - val_loss: 0.0635 - val_acc: 0.9836\n",
            "Epoch 49/50\n",
            "33600/33600 [==============================] - 11s 341us/sample - loss: 0.0371 - acc: 0.9875 - val_loss: 0.0660 - val_acc: 0.9848\n",
            "Epoch 50/50\n",
            "33600/33600 [==============================] - 11s 340us/sample - loss: 0.0352 - acc: 0.9882 - val_loss: 0.0709 - val_acc: 0.9852\n"
          ],
          "name": "stdout"
        }
      ]
    },
    {
      "cell_type": "markdown",
      "metadata": {
        "id": "XLAOzrzznTDy",
        "colab_type": "text"
      },
      "source": [
        "## Evaluate the model\n",
        "\n",
        "Plot our accuracy and loss for understanding problems: \"high bias\" and \"high variance\"."
      ]
    },
    {
      "cell_type": "code",
      "metadata": {
        "id": "p9IdKfABWVLW",
        "colab_type": "code",
        "outputId": "3952e7f6-19a0-4cb9-faba-1a56bae34f6f",
        "colab": {
          "base_uri": "https://localhost:8080/",
          "height": 295
        }
      },
      "source": [
        "plt.plot(history.history['acc'])\n",
        "plt.plot(history.history['val_acc'])\n",
        "plt.title('model accuracy')\n",
        "plt.ylabel('accuracy')\n",
        "plt.xlabel('epoch')\n",
        "plt.legend(['train', 'test'], loc='upper left')\n",
        "plt.show()"
      ],
      "execution_count": 22,
      "outputs": [
        {
          "output_type": "display_data",
          "data": {
            "image/png": "[encoded data removed]",
            "text/plain": [
              "<Figure size 432x288 with 1 Axes>"
            ]
          },
          "metadata": {
            "tags": []
          }
        }
      ]
    },
    {
      "cell_type": "code",
      "metadata": {
        "id": "o6uapVVdWYrU",
        "colab_type": "code",
        "outputId": "cb60aa9b-2308-442e-c91b-f596775d9782",
        "colab": {
          "base_uri": "https://localhost:8080/",
          "height": 295
        }
      },
      "source": [
        "plt.plot(history.history['loss'])\n",
        "plt.plot(history.history['val_loss'])\n",
        "plt.title('model loss')\n",
        "plt.ylabel('loss')\n",
        "plt.xlabel('epoch')\n",
        "plt.legend(['train', 'test'], loc='upper left')\n",
        "plt.show()"
      ],
      "execution_count": 23,
      "outputs": [
        {
          "output_type": "display_data",
          "data": {
            "image/png": "[encoded data removed]",
            "text/plain": [
              "<Figure size 432x288 with 1 Axes>"
            ]
          },
          "metadata": {
            "tags": []
          }
        }
      ]
    },
    {
      "cell_type": "markdown",
      "metadata": {
        "id": "O5cghO2UnZV3",
        "colab_type": "text"
      },
      "source": [
        "After finishing playing with model and we are happy with achieved accuracy, evaluate your model on the test set."
      ]
    },
    {
      "cell_type": "code",
      "metadata": {
        "id": "OKLBpFjScqbB",
        "colab_type": "code",
        "outputId": "ec7734d3-aa0e-4f86-a11c-4cd769f802e5",
        "colab": {
          "base_uri": "https://localhost:8080/",
          "height": 51
        }
      },
      "source": [
        "model.evaluate(X_test, y_test)"
      ],
      "execution_count": 24,
      "outputs": [
        {
          "output_type": "stream",
          "text": [
            "4200/4200 [==============================] - 0s 99us/sample - loss: 0.0796 - acc: 0.9836\n"
          ],
          "name": "stdout"
        },
        {
          "output_type": "execute_result",
          "data": {
            "text/plain": [
              "[0.07959550130419389, 0.9835714]"
            ]
          },
          "metadata": {
            "tags": []
          },
          "execution_count": 24
        }
      ]
    },
    {
      "cell_type": "markdown",
      "metadata": {
        "id": "mc2NGUA-neVV",
        "colab_type": "text"
      },
      "source": [
        "Good job. \n",
        "\n",
        "Let's look at the confusion matrix."
      ]
    },
    {
      "cell_type": "code",
      "metadata": {
        "id": "4uoKBFx0tr29",
        "colab_type": "code",
        "outputId": "549a1165-76e0-44ff-cb1c-432089a4e921",
        "colab": {
          "base_uri": "https://localhost:8080/",
          "height": 187
        }
      },
      "source": [
        "y_pred = model.predict(X_test)\n",
        "y_pred_cl = np.argmax(y_pred, axis = 1)\n",
        "y_true = np.argmax(y_test, axis = 1)\n",
        "\n",
        "confusion_matrix(y_true, y_pred_cl)\n"
      ],
      "execution_count": 25,
      "outputs": [
        {
          "output_type": "execute_result",
          "data": {
            "text/plain": [
              "array([[371,   0,   0,   1,   0,   0,   1,   0,   1,   0],\n",
              "       [  0, 446,   1,   1,   0,   0,   0,   0,   0,   0],\n",
              "       [  0,   1, 401,   1,   0,   0,   0,   1,   1,   2],\n",
              "       [  0,   0,   2, 412,   0,   1,   0,   0,   1,   0],\n",
              "       [  1,   2,   0,   0, 384,   0,   2,   0,   0,   2],\n",
              "       [  0,   0,   0,   9,   1, 379,   2,   0,   3,   3],\n",
              "       [  1,   0,   0,   0,   0,   2, 439,   0,   0,   0],\n",
              "       [  0,   2,   1,   0,   1,   0,   0, 445,   0,   6],\n",
              "       [  1,   0,   0,   2,   2,   0,   1,   1, 427,   2],\n",
              "       [  2,   0,   1,   0,   1,   1,   0,   1,   1, 427]])"
            ]
          },
          "metadata": {
            "tags": []
          },
          "execution_count": 25
        }
      ]
    },
    {
      "cell_type": "markdown",
      "metadata": {
        "id": "7-pxV6DiiWtx",
        "colab_type": "text"
      },
      "source": [
        "## Make a submission.\n",
        "\n",
        "Load test data, normalize and reshape it."
      ]
    },
    {
      "cell_type": "code",
      "metadata": {
        "id": "o2bRZQmMiWG6",
        "colab_type": "code",
        "outputId": "05929dbc-b928-4967-f7e3-e1817e02a253",
        "colab": {
          "base_uri": "https://localhost:8080/",
          "height": 34
        }
      },
      "source": [
        "test = pd.read_csv('/content/drive/My Drive/test.csv')\n",
        "test = test / 255\n",
        "test = test.values.reshape(-1,28,28,1)\n",
        "print(f'The test set contain {test.shape[0]} examples')"
      ],
      "execution_count": 0,
      "outputs": [
        {
          "output_type": "stream",
          "text": [
            "The test set contain 28000 examples\n"
          ],
          "name": "stdout"
        }
      ]
    },
    {
      "cell_type": "markdown",
      "metadata": {
        "id": "7gah0pfkoFB6",
        "colab_type": "text"
      },
      "source": [
        "Make prediction on test.csv"
      ]
    },
    {
      "cell_type": "code",
      "metadata": {
        "id": "pYUHerAGilUE",
        "colab_type": "code",
        "colab": {}
      },
      "source": [
        "pred = model.predict(test)\n",
        "pred = np.argmax(pred, axis = 1)"
      ],
      "execution_count": 0,
      "outputs": []
    },
    {
      "cell_type": "markdown",
      "metadata": {
        "id": "M7_DKV2uoLyK",
        "colab_type": "text"
      },
      "source": [
        "Create dataframe"
      ]
    },
    {
      "cell_type": "code",
      "metadata": {
        "id": "iXoL_kvfi5FH",
        "colab_type": "code",
        "outputId": "14294fd8-283f-4a51-ef40-88bec4baf83c",
        "colab": {
          "base_uri": "https://localhost:8080/",
          "height": 204
        }
      },
      "source": [
        "pred_csv = pd.DataFrame(pred, columns= ['Label'])\n",
        "pred_csv.index += 1\n",
        "pred_csv.head()"
      ],
      "execution_count": 0,
      "outputs": [
        {
          "output_type": "execute_result",
          "data": {
            "text/html": [
              "<div>\n",
              "<style scoped>\n",
              "    .dataframe tbody tr th:only-of-type {\n",
              "        vertical-align: middle;\n",
              "    }\n",
              "\n",
              "    .dataframe tbody tr th {\n",
              "        vertical-align: top;\n",
              "    }\n",
              "\n",
              "    .dataframe thead th {\n",
              "        text-align: right;\n",
              "    }\n",
              "</style>\n",
              "<table border=\"1\" class=\"dataframe\">\n",
              "  <thead>\n",
              "    <tr style=\"text-align: right;\">\n",
              "      <th></th>\n",
              "      <th>Label</th>\n",
              "    </tr>\n",
              "  </thead>\n",
              "  <tbody>\n",
              "    <tr>\n",
              "      <th>1</th>\n",
              "      <td>2</td>\n",
              "    </tr>\n",
              "    <tr>\n",
              "      <th>2</th>\n",
              "      <td>0</td>\n",
              "    </tr>\n",
              "    <tr>\n",
              "      <th>3</th>\n",
              "      <td>9</td>\n",
              "    </tr>\n",
              "    <tr>\n",
              "      <th>4</th>\n",
              "      <td>0</td>\n",
              "    </tr>\n",
              "    <tr>\n",
              "      <th>5</th>\n",
              "      <td>3</td>\n",
              "    </tr>\n",
              "  </tbody>\n",
              "</table>\n",
              "</div>"
            ],
            "text/plain": [
              "   Label\n",
              "1      2\n",
              "2      0\n",
              "3      9\n",
              "4      0\n",
              "5      3"
            ]
          },
          "metadata": {
            "tags": []
          },
          "execution_count": 25
        }
      ]
    },
    {
      "cell_type": "markdown",
      "metadata": {
        "id": "TPtkQM_AoNzb",
        "colab_type": "text"
      },
      "source": [
        "Save dataframe as a csv file"
      ]
    },
    {
      "cell_type": "code",
      "metadata": {
        "id": "ycNvkP-Inn0N",
        "colab_type": "code",
        "colab": {}
      },
      "source": [
        "pred_csv.to_csv('/content/DR.csv', index_label='ImageId' )"
      ],
      "execution_count": 0,
      "outputs": []
    }
  ]
}